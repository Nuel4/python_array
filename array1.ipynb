{
 "cells": [
  {
   "cell_type": "code",
   "execution_count": 9,
   "metadata": {},
   "outputs": [
    {
     "name": "stdout",
     "output_type": "stream",
     "text": [
      "enter the number of elements u want:5\n",
      "enter each value:2\n",
      "enter each value:22\n",
      "enter each value:21\n",
      "enter each value:13\n",
      "enter each value:15\n",
      "array('i', [2, 22, 21, 13, 15])\n"
     ]
    }
   ],
   "source": [
    "from array import *\n",
    "num = array('i' ,[])\n",
    "i =0\n",
    "intake =int(input('enter the number of elements u want:'))\n",
    "while i <intake:\n",
    "    x = int(input('enter each value:'))\n",
    "    num.append(x)\n",
    "    #print(num[x])\n",
    "    i+=1\n",
    "    \n",
    "print(num)    "
   ]
  },
  {
   "cell_type": "code",
   "execution_count": 13,
   "metadata": {},
   "outputs": [
    {
     "name": "stdout",
     "output_type": "stream",
     "text": [
      "enter the number of elements u want:5\n",
      "enter each value:21\n",
      "0 21\n",
      "enter each value:12\n",
      "1 12\n",
      "enter each value:13\n",
      "2 13\n",
      "enter each value:23\n",
      "3 23\n",
      "enter each value:14\n",
      "4 14\n",
      "array('i', [21, 12, 13, 23, 14])\n"
     ]
    }
   ],
   "source": [
    "num = array('i' ,[])\n",
    "i =0\n",
    "intake =int(input('enter the number of elements u want:'))\n",
    "while i <intake:\n",
    "    x = int(input('enter each value:'))\n",
    "    num.append(x)\n",
    "    print(i,num[i])\n",
    "    i+=1\n",
    "    \n",
    "print(num) "
   ]
  },
  {
   "cell_type": "code",
   "execution_count": 14,
   "metadata": {},
   "outputs": [
    {
     "name": "stdout",
     "output_type": "stream",
     "text": [
      "enter the number of elements u want:5\n",
      "enter each value:12\n",
      "0 12\n",
      "enter each value:34\n",
      "1 34\n",
      "enter each value:12\n",
      "2 12\n",
      "enter each value:45\n",
      "3 45\n",
      "enter each value:11\n",
      "4 11\n",
      "array('i', [12, 34, 12, 45, 11])\n"
     ]
    }
   ],
   "source": [
    "num = array('i' ,[])\n",
    "\n",
    "intake =int(input('enter the number of elements u want:'))\n",
    "for i in range(intake):\n",
    "    x = int(input('enter each value:'))\n",
    "    num.append(x)\n",
    "    print(i,num[i])\n",
    "   \n",
    "    \n",
    "print(num) "
   ]
  },
  {
   "cell_type": "code",
   "execution_count": 16,
   "metadata": {},
   "outputs": [
    {
     "name": "stdout",
     "output_type": "stream",
     "text": [
      "enter the number of elements u want:5\n",
      "enter each value:5\n",
      "0 25\n",
      "enter each value:6\n",
      "1 36\n",
      "enter each value:7\n",
      "2 49\n",
      "enter each value:9\n",
      "3 81\n",
      "enter each value:10\n",
      "4 100\n",
      "array('i', [25, 36, 49, 81, 100])\n"
     ]
    }
   ],
   "source": [
    "num = array('i' ,[])\n",
    "\n",
    "intake =int(input('enter the number of elements u want:'))\n",
    "for i in range(intake):\n",
    "    x = int(input('enter each value:'))\n",
    "    num.append(x*x)\n",
    "    print(i,num[i])\n",
    "   \n",
    "    \n",
    "print(num) "
   ]
  },
  {
   "cell_type": "markdown",
   "metadata": {},
   "source": []
  }
 ],
 "metadata": {
  "kernelspec": {
   "display_name": "Python 3",
   "language": "python",
   "name": "python3"
  },
  "language_info": {
   "codemirror_mode": {
    "name": "ipython",
    "version": 3
   },
   "file_extension": ".py",
   "mimetype": "text/x-python",
   "name": "python",
   "nbconvert_exporter": "python",
   "pygments_lexer": "ipython3",
   "version": "3.7.3"
  }
 },
 "nbformat": 4,
 "nbformat_minor": 2
}
